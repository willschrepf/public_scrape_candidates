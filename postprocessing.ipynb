{
 "cells": [
  {
   "cell_type": "code",
   "execution_count": 1,
   "id": "e43b9b03",
   "metadata": {},
   "outputs": [],
   "source": [
    "import pandas as pd"
   ]
  },
  {
   "cell_type": "code",
   "execution_count": 3,
   "id": "5ad667f6",
   "metadata": {},
   "outputs": [],
   "source": [
    "df = pd.read_csv(\"updated_dems_415.csv\")"
   ]
  },
  {
   "cell_type": "code",
   "execution_count": 21,
   "id": "f4c2223d",
   "metadata": {},
   "outputs": [],
   "source": [
    "df['Type'] = df['Type'].replace('Unknown', 'State')\n",
    "\n",
    "columns = ['cand_url', 'cm_url', 'fd_url']\n",
    "\n",
    "for index, row in df.iterrows():\n",
    "    seen = set()\n",
    "    for col in columns:\n",
    "        if row[col] in seen:\n",
    "            df.at[index, col] = ''\n",
    "        else:\n",
    "            seen.add(row[col])"
   ]
  },
  {
   "cell_type": "code",
   "execution_count": 23,
   "id": "f8ee7ae4",
   "metadata": {},
   "outputs": [],
   "source": [
    "base_columns = [col for col in df.columns if col not in ['cand_url', 'cm_url', 'fd_url']]\n",
    "\n",
    "df_cand_url = df[base_columns + ['cand_url']]\n",
    "df_cm_url = df[base_columns + ['cm_url']]\n",
    "df_fd_url = df[base_columns + ['fd_url']]\n",
    "\n",
    "df_cand_url.to_csv('candidates.csv', index=False)\n",
    "df_cm_url.to_csv('campaign_managers.csv', index=False)\n",
    "df_fd_url.to_csv('finance_directors.csv', index=False)"
   ]
  }
 ],
 "metadata": {
  "kernelspec": {
   "display_name": "Python 3 (ipykernel)",
   "language": "python",
   "name": "python3"
  },
  "language_info": {
   "codemirror_mode": {
    "name": "ipython",
    "version": 3
   },
   "file_extension": ".py",
   "mimetype": "text/x-python",
   "name": "python",
   "nbconvert_exporter": "python",
   "pygments_lexer": "ipython3",
   "version": "3.11.5"
  }
 },
 "nbformat": 4,
 "nbformat_minor": 5
}
